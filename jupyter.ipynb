from matplotlib import pylab
from google.colab import widgets
tb = widgets.TabBar([str(i) for i in range(3)])

for i in range(3):
  with tb.output_to(i):
    tb2 = widgets.TabBar(['a','b'], location='end')
    with tb2.output_to(0):
      pylab.figure(figsize=(2, 2))
      pylab.plot(np.random.random((10, 1)))
    with tb2.output_to(1):
      pylab.figure(figsize=(2, 2))
      pylab.plot(np.random.random((10, 1)))
